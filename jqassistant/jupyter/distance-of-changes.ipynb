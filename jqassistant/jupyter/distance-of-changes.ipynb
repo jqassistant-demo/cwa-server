{
 "cells": [
  {
   "cell_type": "markdown",
   "metadata": {},
   "source": [
    "# Distance Of Changes\n",
    "\n",
    "This notebook demonstrates the calculation for the distance of changes. This metric gives an indication about the locality of changes in a code base. Low values indicate good cohesion, a trend with growing values provide a hint that the code should be re-organized."
   ]
  },
  {
   "cell_type": "markdown",
   "metadata": {},
   "source": [
    "## Setup\n",
    "The cell below is used to \n",
    "* import required libraries\n",
    "* setting up the connection to the Neo4j database\n",
    "* define the D3 based HTML template for custom visualizations"
   ]
  },
  {
   "cell_type": "code",
   "execution_count": null,
   "metadata": {},
   "outputs": [],
   "source": [
    "import pandas as pd \n",
    "import plotly.express as px\n",
    "import pygal as pg\n",
    "from string import Template\n",
    "from IPython.core.display import display, HTML\n",
    "from IPython.display import HTML, Javascript, display\n",
    "from py2neo import Graph,Node,Relationship\n",
    "\n",
    "neo4j_url=%env NEO4J_URL\n",
    "\n",
    "%reload_ext cypher\n",
    "%config CypherMagic.uri=neo4j_url + \"/db/data\"\n",
    "\n",
    "graph = Graph(neo4j_url)\n",
    "\n",
    "def configure_d3():\n",
    "    \"\"\"Tell require where to get d3 from in `require(['d3'])`\"\"\"\n",
    "    display(Javascript(\"\"\"\n",
    "    require.config({ \n",
    "      paths: {\n",
    "        lodash: \"/notebooks/vis/lib/lodash.min\",  \n",
    "        d3: \"/notebooks/vis/lib/d3.v4.min\"\n",
    "      }\n",
    "    })\"\"\"))\n",
    "\n",
    "configure_d3()\n",
    "\n",
    "base_html = \"\"\"\n",
    "<!DOCTYPE html>\n",
    "<html>\n",
    "  <head>\n",
    "  <script type=\"text/javascript\" src=\"/notebooks/vis/lib/svg.jquery.js\"></script>\n",
    "  <script type=\"text/javascript\" src=\"/notebooks/vis/lib/pygal-tooltips.min.js\"\"></script>\n",
    "  </head>\n",
    "  <body>\n",
    "    <figure>\n",
    "      {rendered_chart}\n",
    "    </figure>\n",
    "  </body>\n",
    "</html>\n",
    "\"\"\""
   ]
  },
  {
   "cell_type": "markdown",
   "metadata": {},
   "source": [
    "For computing the distance of changed files within a commit the relative path attributes of `:File` nodes must be converted to a tree structure.\n",
    "\n",
    "Therefore first transform `relativePath` of each `:File`node into a linked list of `:Path` nodes, e.g. \n",
    "\n",
    "`(:File{relativePath:\"/src/main/java/\"}))` to `(:Path{relativePath: \"/src\"})-[:CONTAINS]->(:Path{relativePath: \"/src/main\"})`"
   ]
  },
  {
   "cell_type": "code",
   "execution_count": null,
   "metadata": {},
   "outputs": [],
   "source": [
    "graph.run(\"\"\"\n",
    "    MATCH \n",
    "      (f:Git:File)  \n",
    "    WHERE  \n",
    "      exists(f.relativePath)  \n",
    "    WITH f, apoc.text.indexesOf(f.relativePath, \"/\") as delimiters  \n",
    "    WITH f, [del in delimiters | substring(f.relativePath, 0, del)] + f.relativePath as paths  \n",
    "    UNWIND  \n",
    "      paths as path  \n",
    "    CALL  \n",
    "      apoc.create.node(['Path'], {relativePath:path}) YIELD node \n",
    "    WITH  \n",
    "      f, collect(node) as nodes  \n",
    "    CALL  \n",
    "      apoc.nodes.link(nodes,'CONTAINS')   \n",
    "    RETURN  \n",
    "      count(nodes)\n",
    "\"\"\")"
   ]
  },
  {
   "cell_type": "markdown",
   "metadata": {},
   "source": [
    "The previous step created independent linked lists of `:Path` nodes per `:File` node. This step merges `:Path` nodes with the same relative path into one node, the result is the required tree of `:Path` nodes."
   ]
  },
  {
   "cell_type": "markdown",
   "metadata": {},
   "source": [
    "Merge duplicate paths, i.e. for files within same directory tree:"
   ]
  },
  {
   "cell_type": "code",
   "execution_count": null,
   "metadata": {},
   "outputs": [],
   "source": [
    "graph.run(\"\"\"\n",
    "    MATCH \n",
    "      (p:Path) \n",
    "    WITH \n",
    "      p.relativePath as relativePath, collect(p) as paths \n",
    "    CALL \n",
    "      apoc.refactor.mergeNodes(paths, {mergeRels:true}) YIELD node \n",
    "    RETURN \n",
    "      count(relativePath)\n",
    "\"\"\")"
   ]
  },
  {
   "cell_type": "markdown",
   "metadata": {},
   "source": [
    "The :File nodes created by the Git scanner are now linked to the :Path nodes:  "
   ]
  },
  {
   "cell_type": "code",
   "execution_count": null,
   "metadata": {},
   "outputs": [],
   "source": [
    "graph.run(\"\"\"\n",
    "    MATCH \n",
    "      (f:Git:File), \n",
    "      (p:Path) \n",
    "    WHERE \n",
    "      p.relativePath=f.relativePath \n",
    "    MERGE \n",
    "     (f)-[:HAS_PATH]->(p) \n",
    "    RETURN \n",
    "      count(*)\n",
    "\"\"\")"
   ]
  },
  {
   "cell_type": "markdown",
   "metadata": {},
   "source": [
    "Determine per commit (reachable from the main branch) the distance between all changed files by finding the length of the shortest path traversing the `:CONTAINS` relation, i.e. traversing upwards from both paths until the same parent is found.\n",
    "\n",
    "- The query limits to production code only, i.e. files contained in `src/main/java`. Including `src/main/test` creates higher numbers which are not relevant.\n",
    "- The shortest path returned by the query includes the files nodes themselves, for the distance only the hops over containing folders are relevant. Therefore the distance is computed by `length(path)-2`.\n",
    "- The distances are first averaged per commit, then averaged per required time unit (e.g. month). An average only per time unit would blur locality of changes, i.e. one commit in a component followed by another commit in another component. "
   ]
  },
  {
   "cell_type": "code",
   "execution_count": null,
   "metadata": {},
   "outputs": [],
   "source": [
    "df=graph.run(\"\"\"\n",
    "    MATCH \n",
    "      shortestPath((:Branch{name:\"heads/develop\"})-[:HAS_HEAD|HAS_PARENT*]->(c:Commit))  \n",
    "    WHERE \n",
    "      not c:Merge \n",
    "    WITH \n",
    "      c \n",
    "    MATCH \n",
    "      (c)-[:CONTAINS_CHANGE]->()-[:MODIFIES]->(:File)-[:HAS_PATH]->(p1:Path), \n",
    "      (c)-[:CONTAINS_CHANGE]->()-[:MODIFIES]->(:File)-[:HAS_PATH]->(p2:Path) \n",
    "    WHERE \n",
    "      id(p1) < id(p2) \n",
    "      and p1.relativePath contains \"/src/main/\" \n",
    "      and p2.relativePath contains \"/src/main/\" \n",
    "    WITH \n",
    "      c, p1, p2 \n",
    "    MATCH \n",
    "      path=shortestPath((p1)-[:CONTAINS*]-(p2)) \n",
    "    WITH \n",
    "      c, avg(length(path)-2) as avgDistancePerCommit \n",
    "    RETURN \n",
    "      substring(c.date, 0, 7) as `Month Of Year`, avg(avgDistancePerCommit) as `Average Distance` \n",
    "    ORDER BY \n",
    "      `Month Of Year`\n",
    "\"\"\").to_data_frame()\n",
    "fig = px.line(df, x=\"Month Of Year\", y=\"Average Distance\", line_shape=\"spline\", title=\"Avg path distance per commit of production code files (avg per month)\")\n",
    "fig.show()"
   ]
  }
 ],
 "metadata": {
  "kernelspec": {
   "display_name": "Python 3",
   "language": "python",
   "name": "python3"
  },
  "language_info": {
   "codemirror_mode": {
    "name": "ipython",
    "version": 3
   },
   "file_extension": ".py",
   "mimetype": "text/x-python",
   "name": "python",
   "nbconvert_exporter": "python",
   "pygments_lexer": "ipython3",
   "version": "3.9.4"
  },
  "toc": {
   "base_numbering": 1,
   "nav_menu": {},
   "number_sections": true,
   "sideBar": true,
   "skip_h1_title": false,
   "title_cell": "Table of Contents",
   "title_sidebar": "Contents",
   "toc_cell": false,
   "toc_position": {},
   "toc_section_display": true,
   "toc_window_display": true
  }
 },
 "nbformat": 4,
 "nbformat_minor": 4
}
